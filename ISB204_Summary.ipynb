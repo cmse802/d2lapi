{
 "cells": [
  {
   "cell_type": "markdown",
   "id": "6a8d9c63-c205-46e6-82c0-231232281df1",
   "metadata": {},
   "source": [
    "# D2L question flatten script\n",
    "\n",
    "Very simple script to convert multiple line summary D2L data to a single entry.  "
   ]
  },
  {
   "cell_type": "code",
   "execution_count": null,
   "id": "e8797d30-7fc6-4877-8d02-54fdb1e3249a",
   "metadata": {},
   "outputs": [],
   "source": [
    "import pandas as pd"
   ]
  },
  {
   "cell_type": "code",
   "execution_count": null,
   "id": "c57b7051-1cb2-4aec-8627-dc3bbdb4513e",
   "metadata": {},
   "outputs": [],
   "source": [
    "filename='ISB204 Consents SS24.csv'"
   ]
  },
  {
   "cell_type": "code",
   "execution_count": null,
   "id": "fe83abee-ff02-4323-b63f-a7781dff6850",
   "metadata": {},
   "outputs": [],
   "source": [
    "print(filename)\n",
    "df = pd.read_csv(filename)\n",
    "df.columns\n",
    "#df"
   ]
  },
  {
   "cell_type": "code",
   "execution_count": null,
   "id": "e1fd80ab-ca71-4e8f-b2d6-140099807929",
   "metadata": {},
   "outputs": [],
   "source": [
    "df"
   ]
  },
  {
   "cell_type": "code",
   "execution_count": null,
   "id": "99693fc3-6b96-4b5f-abe9-f3c12c4da9f0",
   "metadata": {},
   "outputs": [],
   "source": [
    "currentuser = {}\n",
    "users = {}\n",
    "for index, row in df.iterrows():\n",
    "    if type(row['Section #']) == str: # First row of section. Save previous student and start a new one.\n",
    "        if len(currentuser) > 0:\n",
    "            if currentuser['id'] in users:\n",
    "                if not currentuser['Consent'] == users[currentuser['id']]['Consent']:\n",
    "                    print(f\"REPEAT: Student {row['Name']} Consents do not match\")\n",
    "                else:\n",
    "                    print(f\"REPEAT: Consent Matches\")\n",
    "                currentuser['Consent'] = currentuser['Consent'] and users[currentuser['id']]['Consent'] # Logical or will always be False if one is False\n",
    "            else:\n",
    "                users[currentuser['id']] = currentuser\n",
    "            currentuser = {}\n",
    "        currentuser['Name'] = row['Section #']\n",
    "        currentuser['Consent'] = False\n",
    "        currentuser['id'] = ''\n",
    "    else: # Use if statements to differentiate each row question. \n",
    "        if \"protect your privacy\" in row['Q Text']:\n",
    "            currentuser['id'] = row['Answer Match']\n",
    "        if type(row['Answer']) == str:\n",
    "            if \"Yes, I voluntarily\" in row['Answer']:\n",
    "                if row['# Responses'] == 1.0:\n",
    "                    currentuser['Consent'] = True"
   ]
  },
  {
   "cell_type": "code",
   "execution_count": null,
   "id": "6e8a85c6-797c-41a0-b781-3e3701b109a1",
   "metadata": {},
   "outputs": [],
   "source": [
    "new_df = pd.DataFrame.from_dict(users, orient='index')\n",
    "new_df"
   ]
  },
  {
   "cell_type": "code",
   "execution_count": null,
   "id": "848616b0-0cb9-4eb8-82d0-fef430bb9a7e",
   "metadata": {},
   "outputs": [],
   "source": [
    "new_df.to_csv(f\"ISB204_output.csv\")"
   ]
  },
  {
   "cell_type": "code",
   "execution_count": null,
   "id": "e9c6be92-7ec1-4acc-a35f-4f3a4578c0c3",
   "metadata": {},
   "outputs": [],
   "source": [
    "set(new_df['Consent'])"
   ]
  },
  {
   "cell_type": "code",
   "execution_count": null,
   "id": "47224e78-884c-4f67-b144-6e9e1c91370f",
   "metadata": {},
   "outputs": [],
   "source": []
  }
 ],
 "metadata": {
  "kernelspec": {
   "display_name": "Python 3.11 (default)",
   "language": "python",
   "name": "python3"
  },
  "language_info": {
   "codemirror_mode": {
    "name": "ipython",
    "version": 3
   },
   "file_extension": ".py",
   "mimetype": "text/x-python",
   "name": "python",
   "nbconvert_exporter": "python",
   "pygments_lexer": "ipython3",
   "version": "3.11.6"
  }
 },
 "nbformat": 4,
 "nbformat_minor": 5
}
